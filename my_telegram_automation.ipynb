{
  "cells": [
    {
      "cell_type": "markdown",
      "metadata": {
        "id": "view-in-github",
        "colab_type": "text"
      },
      "source": [
        "<a href=\"https://colab.research.google.com/github/faykar-cyber/Telegram-auto-forward-/blob/master/my_telegram_automation.ipynb\" target=\"_parent\"><img src=\"https://colab.research.google.com/assets/colab-badge.svg\" alt=\"Open In Colab\"/></a>"
      ]
    },
    {
      "cell_type": "code",
      "execution_count": null,
      "metadata": {
        "colab": {
          "base_uri": "https://localhost:8080/"
        },
        "id": "wS4z-xmZt68f",
        "outputId": "2ca4a21d-9ce4-4182-cb72-6563e1dca799"
      },
      "outputs": [
        {
          "name": "stdout",
          "output_type": "stream",
          "text": [
            "Collecting telethon\n",
            "  Downloading Telethon-1.39.0-py3-none-any.whl.metadata (3.9 kB)\n",
            "Collecting pyaes (from telethon)\n",
            "  Downloading pyaes-1.6.1.tar.gz (28 kB)\n",
            "  Preparing metadata (setup.py) ... \u001b[?25l\u001b[?25hdone\n",
            "Requirement already satisfied: rsa in /usr/local/lib/python3.11/dist-packages (from telethon) (4.9)\n",
            "Requirement already satisfied: pyasn1>=0.1.3 in /usr/local/lib/python3.11/dist-packages (from rsa->telethon) (0.6.1)\n",
            "Downloading Telethon-1.39.0-py3-none-any.whl (715 kB)\n",
            "\u001b[2K   \u001b[90m━━━━━━━━━━━━━━━━━━━━━━━━━━━━━━━━━━━━━━━━\u001b[0m \u001b[32m715.9/715.9 kB\u001b[0m \u001b[31m16.2 MB/s\u001b[0m eta \u001b[36m0:00:00\u001b[0m\n",
            "\u001b[?25hBuilding wheels for collected packages: pyaes\n",
            "  Building wheel for pyaes (setup.py) ... \u001b[?25l\u001b[?25hdone\n",
            "  Created wheel for pyaes: filename=pyaes-1.6.1-py3-none-any.whl size=26346 sha256=9f66140beadee9a0408726b95c896e7ad83077bc903c9f17cda36537ac07ebeb\n",
            "  Stored in directory: /root/.cache/pip/wheels/4e/52/33/010d0843550bffb6a591b11629070ae140c0ad4f53e68a3bd3\n",
            "Successfully built pyaes\n",
            "Installing collected packages: pyaes, telethon\n",
            "Successfully installed pyaes-1.6.1 telethon-1.39.0\n"
          ]
        }
      ],
      "source": [
        "!pip install telethon"
      ]
    },
    {
      "cell_type": "code",
      "execution_count": null,
      "metadata": {
        "colab": {
          "base_uri": "https://localhost:8080/"
        },
        "id": "TVhLX_KeuDFG",
        "outputId": "ea88d713-9bde-4856-8516-fcfd7b18a3ce"
      },
      "outputs": [
        {
          "output_type": "stream",
          "name": "stdout",
          "text": [
            "Mounted at /content/drive\n",
            "Starting Telegram Client for login...\n",
            "Login successful. Session saved in Google Drive. You won’t need to log in again.\n"
          ]
        }
      ],
      "source": [
        "import asyncio\n",
        "import os\n",
        "from telethon import TelegramClient\n",
        "from telethon.sessions import SQLiteSession\n",
        "from google.colab import drive\n",
        "\n",
        "# Mount Google Drive\n",
        "drive.mount('/content/drive')\n",
        "\n",
        "# Set session file path inside Google Drive\n",
        "session_path = \"/content/drive/MyDrive/telegram_session.session\"\n",
        "\n",
        "# Replace these with your API credentials\n",
        "api_id = 24255892\n",
        "api_hash = '0251d26f012dd2bd24e7a2e3135fca83'\n",
        "\n",
        "# Use the session from Google Drive\n",
        "session = SQLiteSession(session_path)\n",
        "client = TelegramClient(session, api_id, api_hash)\n",
        "\n",
        "async def login():\n",
        "    try:\n",
        "        print(\"Starting Telegram Client for login...\")\n",
        "        await client.start()\n",
        "        print(\"Login successful. Session saved in Google Drive. You won’t need to log in again.\")\n",
        "    except Exception as e:\n",
        "        print(f\"Login failed: {e}\")\n",
        "    finally:\n",
        "        await client.disconnect()\n",
        "\n",
        "# Run login process\n",
        "await login()"
      ]
    },
    {
      "cell_type": "code",
      "execution_count": 1,
      "metadata": {
        "colab": {
          "base_uri": "https://localhost:8080/",
          "height": 488
        },
        "id": "BxocyFIRuGlt",
        "outputId": "d99f2faa-2fd9-4e31-d785-0a0b8919772d"
      },
      "outputs": [
        {
          "output_type": "stream",
          "name": "stdout",
          "text": [
            "Collecting telethon\n",
            "  Downloading Telethon-1.39.0-py3-none-any.whl.metadata (3.9 kB)\n",
            "Collecting pyaes (from telethon)\n",
            "  Downloading pyaes-1.6.1.tar.gz (28 kB)\n",
            "  Preparing metadata (setup.py) ... \u001b[?25l\u001b[?25hdone\n",
            "Requirement already satisfied: rsa in /usr/local/lib/python3.11/dist-packages (from telethon) (4.9)\n",
            "Requirement already satisfied: pyasn1>=0.1.3 in /usr/local/lib/python3.11/dist-packages (from rsa->telethon) (0.6.1)\n",
            "Downloading Telethon-1.39.0-py3-none-any.whl (715 kB)\n",
            "\u001b[2K   \u001b[90m━━━━━━━━━━━━━━━━━━━━━━━━━━━━━━━━━━━━━━━━\u001b[0m \u001b[32m715.9/715.9 kB\u001b[0m \u001b[31m8.5 MB/s\u001b[0m eta \u001b[36m0:00:00\u001b[0m\n",
            "\u001b[?25hBuilding wheels for collected packages: pyaes\n",
            "  Building wheel for pyaes (setup.py) ... \u001b[?25l\u001b[?25hdone\n",
            "  Created wheel for pyaes: filename=pyaes-1.6.1-py3-none-any.whl size=26346 sha256=c842ca20e8098dc0062c6e4f31e3eee859616551261f692066a1561f61b82ac0\n",
            "  Stored in directory: /root/.cache/pip/wheels/4e/52/33/010d0843550bffb6a591b11629070ae140c0ad4f53e68a3bd3\n",
            "Successfully built pyaes\n",
            "Installing collected packages: pyaes, telethon\n",
            "Successfully installed pyaes-1.6.1 telethon-1.39.0\n"
          ]
        },
        {
          "output_type": "error",
          "ename": "NameError",
          "evalue": "name 'drive' is not defined",
          "traceback": [
            "\u001b[0;31m---------------------------------------------------------------------------\u001b[0m",
            "\u001b[0;31mNameError\u001b[0m                                 Traceback (most recent call last)",
            "\u001b[0;32m<ipython-input-1-18323a986b82>\u001b[0m in \u001b[0;36m<cell line: 0>\u001b[0;34m()\u001b[0m\n\u001b[1;32m      7\u001b[0m \u001b[0;34m\u001b[0m\u001b[0m\n\u001b[1;32m      8\u001b[0m \u001b[0;31m# Mount Google Drive\u001b[0m\u001b[0;34m\u001b[0m\u001b[0;34m\u001b[0m\u001b[0m\n\u001b[0;32m----> 9\u001b[0;31m \u001b[0mdrive\u001b[0m\u001b[0;34m.\u001b[0m\u001b[0mmount\u001b[0m\u001b[0;34m(\u001b[0m\u001b[0;34m'/content/drive'\u001b[0m\u001b[0;34m)\u001b[0m\u001b[0;34m\u001b[0m\u001b[0;34m\u001b[0m\u001b[0m\n\u001b[0m\u001b[1;32m     10\u001b[0m \u001b[0;34m\u001b[0m\u001b[0m\n\u001b[1;32m     11\u001b[0m \u001b[0;31m# Add Telethon path from Google Drive\u001b[0m\u001b[0;34m\u001b[0m\u001b[0;34m\u001b[0m\u001b[0m\n",
            "\u001b[0;31mNameError\u001b[0m: name 'drive' is not defined"
          ]
        }
      ],
      "source": [
        "!pip install telethon\n",
        "import sys\n",
        "import asyncio\n",
        "from telethon import TelegramClient, events\n",
        "from telethon.tl.types import InputPeerChannel, MessageMediaDocument, MessageMediaPhoto\n",
        "from telethon.sessions import SQLiteSession\n",
        "\n",
        "# Mount Google Drive\n",
        "drive.mount('/content/drive')\n",
        "\n",
        "# Add Telethon path from Google Drive\n",
        "telethon_path = \"/content/drive/MyDrive/telethon_lib\"\n",
        "sys.path.append(telethon_path)\n",
        "\n",
        "# Configure logging\n",
        "logging.basicConfig(level=logging.INFO, format='%(asctime)s - %(levelname)s - %(message)s')\n",
        "logger = logging.getLogger(__name__)\n",
        "\n",
        "# Your Telegram API credentials\n",
        "api_id_1 = '21097853'  # Replace with your API ID\n",
        "api_hash_1 = '27f7c2e449ca2903765aa4dbed2c428'  # Replace with your API Hash\n",
        "\n",
        "# Path to the session file stored in Google Drive\n",
        "session_path = \"/content/drive/MyDrive/telegram_session.session\"\n",
        "session = SQLiteSession(session_path)\n",
        "\n",
        "# Initialize the Telegram client with persistent session\n",
        "client = TelegramClient(session, api_id_1, api_hash_1)\n",
        "\n",
        "# Replace these with actual IDs and access hashes\n",
        "channels = [\n",
        "    (2315854408, 3152840574677520582, 1881977634, 592818182236424971),\n",
        "    (1958596918, 634969391175935554, 1881977634, 5928181822364249718),\n",
        "    (1908991684, 6655715077810067354, 1881977634, 5928181822364249718),\n",
        "    (2440920833, 3701624762256072702, 1881977634, 5928181822364249718),\n",
        "    (2495856742, 3343034098660930539, 1881977634, 5928181822364249718),\n",
        "    (2463792229, 7323715828442030437, 1881977634, 5928181822364249718),\n",
        "    (2361184864, 4759118466964879818, 1881977634, 5928181822364249718),\n",
        "    (1986865614, 9148856788000007725, 1881977634, 5928181822364249718),\n",
        "    (2431170966, 8326569853277104679, 1881977634, 5928181822364249718),\n",
        "    (1661102889, 4759118466964879818, 1881977634, 5928181822364249718),\n",
        "    (2089653783, 3564760369603079005, 1881977634, 5928181822364249718),\n",
        "    (2031237062, 6241702314817245303, 1881977634, 5928181822364249718),\n",
        "    (1597273610, 9155378247437216505, 1881977634, 5928181822364249718),\n",
        "    (2451514128, 8811471449435759157, 1881977634, 5928181822364249718),\n",
        "    (2088743453, 1619763026630941486, 1881977634, 5928181822364249718),\n",
        "    (2104364419, 916295117729830232, 1881977634, 5928181822364249718),\n",
        "    (1727505028, 64747657680901694, 1881977634, 5928181822364249718)\n",
        "]\n",
        "\n",
        "async def handle_messages(source_channel_id, source_channel_access_hash, target_channel_id, target_channel_access_hash):\n",
        "    logger.info(f\"Listening to {source_channel_id}...\")\n",
        "    print(f\"Listening to {source_channel_id}...\")\n",
        "\n",
        "    source_channel = InputPeerChannel(source_channel_id, source_channel_access_hash)\n",
        "    target_channel = InputPeerChannel(target_channel_id, target_channel_access_hash)\n",
        "\n",
        "    @client.on(events.NewMessage(chats=source_channel))\n",
        "    async def handler(event):\n",
        "        try:\n",
        "            file_name = None\n",
        "\n",
        "            if not event.message.media:\n",
        "                logger.info(f\"Skipped text-only message from {source_channel_id}\")\n",
        "                print(f\"Skipped text-only message from {source_channel_id}\")\n",
        "                return\n",
        "\n",
        "            if isinstance(event.message.media, MessageMediaPhoto):\n",
        "                logger.info(f\"Skipped photo message from {source_channel_id}\")\n",
        "                print(f\"Skipped photo message from {source_channel_id}\")\n",
        "                return\n",
        "\n",
        "            if isinstance(event.message.media, MessageMediaDocument):\n",
        "                document = event.message.media.document\n",
        "                if hasattr(document, 'attributes'):\n",
        "                    for attr in document.attributes:\n",
        "                        if hasattr(attr, 'file_name'):\n",
        "                            file_name = attr.file_name.lower()\n",
        "                if file_name and file_name.endswith(('.torrent', '.exe', '.srt','.mp3', '.vob', '.html', '.ifo', '.jpeg','.txt', '.bup', '.png', '.doi', '.vtt', '.url', '.bin', '.mhtml', '.jpg', '.bin', '.ini', '.msi', '.bat', '.sh')):\n",
        "                    logger.info(f\"Skipped unsupported file from {source_channel_id}: {file_name}\")\n",
        "                    print(f\"Skipped unsupported file from {source_channel_id}: {file_name}\")\n",
        "                    return\n",
        "\n",
        "            await client.send_file(target_channel, file=event.message.media, caption=event.message.text or \"\")\n",
        "            logger.info(f\"Sent media from {source_channel_id}: {file_name if file_name else 'media'}\")\n",
        "            print(f\"Sent media from {source_channel_id} to {target_channel_id}: {file_name if file_name else 'media'}\")\n",
        "\n",
        "        except Exception as e:\n",
        "            logger.error(f\"Error processing message from {source_channel_id}: {e}\")\n",
        "            print(f\"Error processing message from {source_channel_id}: {e}\")\n",
        "\n",
        "async def main():\n",
        "    while True:\n",
        "        try:\n",
        "            print(\"Starting Telegram Client...\")\n",
        "            await client.start()\n",
        "            print(\"Telegram client started successfully.\")\n",
        "            await asyncio.gather(*[handle_messages(*channel) for channel in channels])\n",
        "            await client.run_until_disconnected()\n",
        "        except Exception as e:\n",
        "            print(f\"Connection lost: {e}. Reconnecting in 5 seconds...\")\n",
        "            await asyncio.sleep(5)\n",
        "        finally:\n",
        "            await client.disconnect()\n",
        "\n",
        "# Run in Jupyter cell\n",
        "await main()"
      ]
    }
  ],
  "metadata": {
    "colab": {
      "provenance": [],
      "authorship_tag": "ABX9TyPArVPdngLJvdQ1M0PPYhsM",
      "include_colab_link": true
    },
    "kernelspec": {
      "display_name": "Python 3",
      "name": "python3"
    },
    "language_info": {
      "name": "python"
    }
  },
  "nbformat": 4,
  "nbformat_minor": 0
}